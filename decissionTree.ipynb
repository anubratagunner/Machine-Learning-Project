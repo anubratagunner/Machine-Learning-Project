{
 "cells": [
  {
   "cell_type": "code",
   "execution_count": 5,
   "metadata": {},
   "outputs": [],
   "source": [
    "%matplotlib inline\n",
    "import warnings\n",
    "warnings.filterwarnings('ignore')\n",
    "\n",
    "import pandas as pd\n",
    "import numpy as np\n",
    "import matplotlib.pyplot as plt\n",
    "import seaborn as sns\n",
    "import pickle\n",
    "import feather\n",
    "import gc\n",
    "from datetime import datetime\n",
    "from tqdm import tqdm, tqdm_notebook\n",
    "from sklearn.model_selection import train_test_split, KFold, StratifiedKFold\n",
    "from sklearn.preprocessing import OneHotEncoder, LabelEncoder\n",
    "from sklearn.impute import SimpleImputer\n",
    "import lightgbm as lgb\n",
    "from sklearn import tree\n",
    "from sklearn.metrics import roc_auc_score\n",
    "from numba import jit\n",
    "import joblib\n",
    "\n",
    "pd.set_option('display.max_columns', 500)\n",
    "pd.set_option('display.max_rows', 500)"
   ]
  },
  {
   "cell_type": "code",
   "execution_count": 3,
   "metadata": {},
   "outputs": [
    {
     "name": "stdout",
     "output_type": "stream",
     "text": [
      "Wall time: 6.54 s\n"
     ]
    }
   ],
   "source": [
    "%%time\n",
    "data = pd.read_feather(\"finalData.ft\")"
   ]
  },
  {
   "cell_type": "code",
   "execution_count": 4,
   "metadata": {},
   "outputs": [
    {
     "name": "stdout",
     "output_type": "stream",
     "text": [
      "Wall time: 21.2 s\n"
     ]
    }
   ],
   "source": [
    "%%time\n",
    "\n",
    "features = data.columns.tolist()\n",
    "features.remove('HasDetections')\n",
    "\n",
    "labels = np.asarray(data['HasDetections'])\n",
    "data.drop(['HasDetections'],inplace=True,axis=1)\n",
    "\n",
    "\n",
    "data = np.asarray(data)"
   ]
  },
  {
   "cell_type": "code",
   "execution_count": 6,
   "metadata": {},
   "outputs": [],
   "source": [
    "@jit(parallel=True)\n",
    "def train(model,d,l):\n",
    "    model.fit(d,l)"
   ]
  },
  {
   "cell_type": "code",
   "execution_count": null,
   "metadata": {},
   "outputs": [
    {
     "name": "stderr",
     "output_type": "stream",
     "text": [
      "\n",
      "\n",
      "\n",
      "0it [00:00, ?it/s]"
     ]
    }
   ],
   "source": [
    "%%time\n",
    "from sklearn.metrics import accuracy_score , confusion_matrix\n",
    "from sklearn.metrics import accuracy_score\n",
    "\n",
    "folds = KFold(n_splits=3, shuffle=True)\n",
    "scores=[]\n",
    "confusionMatrices=[]\n",
    "bestscore=0\n",
    "for (train_index, test_index) in tqdm(folds.split(data,labels)):\n",
    "    xtrain , ytrain = data[train_index] , labels[train_index]\n",
    "    xtest , ytest = data[test_index] , labels[test_index]\n",
    "    \n",
    "    classifier = tree.DecisionTreeClassifier()\n",
    "    train(classifier,xtrain,ytrain)\n",
    "    pred = classifier.predict(xtest)\n",
    "    score = roc_auc_score(ytest, pred)\n",
    "    if(score>bestscore):\n",
    "        bestscore=score\n",
    "        joblib.dump(classifier, 'decissionTree.pkl')\n",
    "    confusionMatrices.append(confusion_matrix(ytest,pred))\n",
    "    scores.append(score)\n",
    "    \n",
    "print (scores)"
   ]
  },
  {
   "cell_type": "code",
   "execution_count": 12,
   "metadata": {},
   "outputs": [
    {
     "name": "stdout",
     "output_type": "stream",
     "text": [
      "0.5750778486289954\n"
     ]
    }
   ],
   "source": [
    "print (score)"
   ]
  }
 ],
 "metadata": {
  "kernelspec": {
   "display_name": "Python 3",
   "language": "python",
   "name": "python3"
  },
  "language_info": {
   "codemirror_mode": {
    "name": "ipython",
    "version": 3
   },
   "file_extension": ".py",
   "mimetype": "text/x-python",
   "name": "python",
   "nbconvert_exporter": "python",
   "pygments_lexer": "ipython3",
   "version": "3.7.4"
  }
 },
 "nbformat": 4,
 "nbformat_minor": 2
}
