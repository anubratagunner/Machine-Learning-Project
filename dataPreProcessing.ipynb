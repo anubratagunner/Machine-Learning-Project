{
 "cells": [
  {
   "cell_type": "code",
   "execution_count": 1,
   "metadata": {},
   "outputs": [],
   "source": [
    "%matplotlib inline\n",
    "import warnings\n",
    "warnings.filterwarnings('ignore')\n",
    "\n",
    "import pandas as pd\n",
    "import numpy as np\n",
    "import matplotlib.pyplot as plt\n",
    "import seaborn as sns\n",
    "import pickle\n",
    "import feather\n",
    "import gc\n",
    "from datetime import datetime\n",
    "from tqdm import tqdm, tqdm_notebook\n",
    "from sklearn.model_selection import train_test_split, KFold, StratifiedKFold\n",
    "from sklearn.preprocessing import OneHotEncoder, LabelEncoder\n",
    "from sklearn.impute import SimpleImputer\n",
    "import lightgbm as lgb\n",
    "import scipy\n",
    "from sklearn.metrics import roc_auc_score\n",
    "from numba import jit\n",
    "\n",
    "pd.set_option('display.max_columns', 500)\n",
    "pd.set_option('display.max_rows', 500)"
   ]
  },
  {
   "cell_type": "code",
   "execution_count": 2,
   "metadata": {},
   "outputs": [
    {
     "name": "stdout",
     "output_type": "stream",
     "text": [
      "Wall time: 22.6 s\n"
     ]
    }
   ],
   "source": [
    "%%time\n",
    "\n",
    "optimizedDataTypes = {\n",
    "        'MachineIdentifier':                                    'object',\n",
    "        'ProductName':                                          'category',\n",
    "        'EngineVersion':                                        'category',\n",
    "        'AppVersion':                                           'category',\n",
    "        'AvSigVersion':                                         'category',\n",
    "        'IsBeta':                                               'int8',\n",
    "        'RtpStateBitfield':                                     'float32',\n",
    "        'IsSxsPassiveMode':                                     'int8',\n",
    "        'DefaultBrowsersIdentifier':                            'float32',\n",
    "        'AVProductStatesIdentifier':                            'float32',\n",
    "        'AVProductsInstalled':                                  'float32',\n",
    "        'AVProductsEnabled':                                    'float32',\n",
    "        'HasTpm':                                               'int8',\n",
    "        'CountryIdentifier':                                    'int16',\n",
    "        'CityIdentifier':                                       'float32',\n",
    "        'OrganizationIdentifier':                               'float32',\n",
    "        'GeoNameIdentifier':                                    'float32',\n",
    "        'LocaleEnglishNameIdentifier':                          'int8',\n",
    "        'Platform':                                             'category',\n",
    "        'Processor':                                            'category',\n",
    "        'OsVer':                                                'category',\n",
    "        'OsBuild':                                              'int16',\n",
    "        'OsSuite':                                              'int16',\n",
    "        'OsPlatformSubRelease':                                 'category',\n",
    "        'OsBuildLab':                                           'category',\n",
    "        'SkuEdition':                                           'category',\n",
    "        'IsProtected':                                          'float32',\n",
    "        'AutoSampleOptIn':                                      'int8',\n",
    "        'PuaMode':                                              'category',\n",
    "        'SMode':                                                'float32',\n",
    "        'IeVerIdentifier':                                      'float32',\n",
    "        'SmartScreen':                                          'category',\n",
    "        'Firewall':                                             'float32',\n",
    "        'UacLuaenable':                                         'float32',\n",
    "        'Census_MDC2FormFactor':                                'category',\n",
    "        'Census_DeviceFamily':                                  'category',\n",
    "        'Census_OEMNameIdentifier':                             'float32',\n",
    "        'Census_OEMModelIdentifier':                            'float32',\n",
    "        'Census_ProcessorCoreCount':                            'float32',\n",
    "        'Census_ProcessorManufacturerIdentifier':               'float32',\n",
    "        'Census_ProcessorModelIdentifier':                      'float32',\n",
    "        'Census_ProcessorClass':                                'category',\n",
    "        'Census_PrimaryDiskTotalCapacity':                      'float32',\n",
    "        'Census_PrimaryDiskTypeName':                           'category',\n",
    "        'Census_SystemVolumeTotalCapacity':                     'float32',\n",
    "        'Census_HasOpticalDiskDrive':                           'int8',\n",
    "        'Census_TotalPhysicalRAM':                              'float32',\n",
    "        'Census_ChassisTypeName':                               'category',\n",
    "        'Census_InternalPrimaryDiagonalDisplaySizeInInches':    'float32',\n",
    "        'Census_InternalPrimaryDisplayResolutionHorizontal':    'float32',\n",
    "        'Census_InternalPrimaryDisplayResolutionVertical':      'float32',\n",
    "        'Census_PowerPlatformRoleName':                         'category',\n",
    "        'Census_InternalBatteryType':                           'category',\n",
    "        'Census_InternalBatteryNumberOfCharges':                'float32',\n",
    "        'Census_OSVersion':                                     'category',\n",
    "        'Census_OSArchitecture':                                'category',\n",
    "        'Census_OSBranch':                                      'category',\n",
    "        'Census_OSBuildNumber':                                 'int16',\n",
    "        'Census_OSBuildRevision':                               'int32',\n",
    "        'Census_OSEdition':                                     'category',\n",
    "        'Census_OSSkuName':                                     'category',\n",
    "        'Census_OSInstallTypeName':                             'category',\n",
    "        'Census_OSInstallLanguageIdentifier':                   'float32',\n",
    "        'Census_OSUILocaleIdentifier':                          'int16',\n",
    "        'Census_OSWUAutoUpdateOptionsName':                     'category',\n",
    "        'Census_IsPortableOperatingSystem':                     'int8',\n",
    "        'Census_GenuineStateName':                              'category',\n",
    "        'Census_ActivationChannel':                             'category',\n",
    "        'Census_IsFlightingInternal':                           'float32',\n",
    "        'Census_IsFlightsDisabled':                             'float32',\n",
    "        'Census_FlightRing':                                    'category',\n",
    "        'Census_ThresholdOptIn':                                'float32',\n",
    "        'Census_FirmwareManufacturerIdentifier':                'float32',\n",
    "        'Census_FirmwareVersionIdentifier':                     'float32',\n",
    "        'Census_IsSecureBootEnabled':                           'int8',\n",
    "        'Census_IsWIMBootEnabled':                              'float32',\n",
    "        'Census_IsVirtualDevice':                               'float32',\n",
    "        'Census_IsTouchEnabled':                                'int8',\n",
    "        'Census_IsPenCapable':                                  'int8',\n",
    "        'Census_IsAlwaysOnAlwaysConnectedCapable':              'float32',\n",
    "        'Wdft_IsGamer':                                         'float32',\n",
    "        'Wdft_RegionIdentifier':                                'float32',\n",
    "        'HasDetections':                                        'int8'\n",
    "}\n",
    "\n",
    "\n",
    "trainData =pd.read_feather('train.ft')\n",
    "\n",
    "\n",
    "#time of importing both datasets has reduced dramatically."
   ]
  },
  {
   "cell_type": "code",
   "execution_count": 3,
   "metadata": {},
   "outputs": [
    {
     "name": "stdout",
     "output_type": "stream",
     "text": [
      "Wall time: 1min 14s\n"
     ]
    }
   ],
   "source": [
    "%%time\n",
    "trainData = trainData.astype(optimizedDataTypes)\n",
    "\n"
   ]
  },
  {
   "cell_type": "code",
   "execution_count": 4,
   "metadata": {},
   "outputs": [
    {
     "name": "stdout",
     "output_type": "stream",
     "text": [
      "Wall time: 4.47 s\n",
      "Parser   : 140 ms\n"
     ]
    }
   ],
   "source": [
    "%%time\n",
    "#print (train.head(1))\n",
    "trainLabel = trainData['HasDetections']\n",
    "trainID = trainData['MachineIdentifier']\n",
    "trainData=trainData.drop(['MachineIdentifier'], inplace=False, axis=1)\n"
   ]
  },
  {
   "cell_type": "code",
   "execution_count": 5,
   "metadata": {},
   "outputs": [],
   "source": [
    "##Block to play with df.isnan, df.isnan.sum , df.isnan.count\n",
    "# data = [['tom', 10], [np.NaN, 15], [np.NaN, np.NaN]] \n",
    "  \n",
    "# # Create the pandas DataFrame \n",
    "# df = pd.DataFrame(data, columns = ['Name', 'Age'])\n",
    "# df.sort_values(by='Age' , ascending=False)\n",
    "\n",
    "# print ( df.count() )"
   ]
  },
  {
   "cell_type": "code",
   "execution_count": 5,
   "metadata": {},
   "outputs": [
    {
     "name": "stdout",
     "output_type": "stream",
     "text": [
      "8921483 8921483\n",
      "0 0\n",
      "Wall time: 4.41 s\n"
     ]
    }
   ],
   "source": [
    "%%time\n",
    "n=len(trainID)\n",
    "print (n,len(trainLabel))\n",
    "print (sum(trainID.isna()),sum(trainLabel.isna()))\n",
    "\n",
    "#verifying if we have equal number of machine IDs and labels and they don't have any missing values."
   ]
  },
  {
   "cell_type": "code",
   "execution_count": 6,
   "metadata": {},
   "outputs": [
    {
     "name": "stdout",
     "output_type": "stream",
     "text": [
      "Wall time: 11.5 s\n"
     ]
    }
   ],
   "source": [
    "%%time\n",
    "no_missing = (trainData.isnull().sum())\n",
    "na_percent = ((no_missing/n).sort_values(ascending=False))\n",
    "\n",
    "# plt.bar(na_percent.keys,na_percent.values)\n",
    "\n",
    "#percentage of missing values in each column.\n",
    "\n",
    "# temp = (train.isnull().sum().count())\n",
    "# print (temp)"
   ]
  },
  {
   "cell_type": "code",
   "execution_count": 24,
   "metadata": {},
   "outputs": [],
   "source": [
    "new = na_percent.to_numpy()"
   ]
  },
  {
   "cell_type": "code",
   "execution_count": 10,
   "metadata": {},
   "outputs": [
    {
     "data": {
      "text/plain": [
       "Text(-183.375, 0.5, 'Column names')"
      ]
     },
     "execution_count": 10,
     "metadata": {},
     "output_type": "execute_result"
    },
    {
     "data": {
      "image/png": "[encoded data removed]",
      "text/plain": [
       "<Figure size 720x1440 with 1 Axes>"
      ]
     },
     "metadata": {
      "needs_background": "light"
     },
     "output_type": "display_data"
    }
   ],
   "source": [
    "fig = plt.figure(figsize=(10,20))\n",
    "na_percent=na_percent/100\n",
    "na_percent.T.plot(kind='barh')\n",
    "plt.plot(np.array([40]*50),np.linspace(0,200),color='red')\n",
    "plt.savefig('missing_graph.png')\n",
    "plt.xlabel('Percentage of missing values')\n",
    "plt.ylabel('Column names')"
   ]
  },
  {
   "cell_type": "markdown",
   "metadata": {},
   "source": [
    "Colname - SmartScreen - Data Cleaning"
   ]
  },
  {
   "cell_type": "code",
   "execution_count": 8,
   "metadata": {},
   "outputs": [
    {
     "name": "stdout",
     "output_type": "stream",
     "text": [
      "[NaN, RequireAdmin, ExistsNotSet, Off, Warn, ..., prompt, warn, 00000000, requireAdmin, &#x03;]\n",
      "Length: 22\n",
      "Categories (21, object): [RequireAdmin, ExistsNotSet, Off, Warn, ..., warn, 00000000, requireAdmin, &#x03;]\n",
      "14\n",
      "11\n",
      "10\n",
      "Wall time: 3.65 s\n"
     ]
    }
   ],
   "source": [
    "%%time\n",
    "print((trainData['SmartScreen']).unique())\n",
    "\n",
    "#since there are categpries that just have their cases changed ex: RequireAdmin and requireAdmin\n",
    "\n",
    "trainData['SmartScreen'] = trainData['SmartScreen'].str.lower()\n",
    "print((trainData['SmartScreen']).nunique())\n",
    "\n",
    "#we now have 14 categories which were 21 earlier.\n",
    "\n",
    "trainData['SmartScreen']=trainData['SmartScreen'].replace(\n",
    "    {'promt': 'prompt', \n",
    "    'promprt': 'prompt',\n",
    "    'enabled': 'on',\n",
    "    'of': 'off',\n",
    "    'deny': '0',\n",
    "    '00000000': '0',\n",
    "    'requiredadmin': 'requireadmin'},inplace=False)\n",
    "print((trainData['SmartScreen']).nunique())\n",
    "\n",
    "#we now have 11 categories. \n",
    "\n",
    "#since promt, promprt and prompt are same. requiredadmin is same as requireadmin. of and off are similar.\n",
    "#deny and 0000000 represent NaN values, which have been replaced by 0 now and would be replaced by\n",
    "#NaN.\n",
    "\n",
    "\n",
    "trainData['SmartScreen'] = trainData['SmartScreen'].replace({'0': np.nan}, inplace=False)\n",
    "print((trainData['SmartScreen']).nunique())\n",
    "\n",
    "#we now have 10 categories.\n",
    "\n",
    "trainData['SmartScreen']=trainData['SmartScreen'].astype('category')\n",
    "\n",
    "# ^^optimizing data frame be defining optmized data type."
   ]
  },
  {
   "cell_type": "markdown",
   "metadata": {},
   "source": [
    "Colname - Census_InternalBatteryType - Developing numerical feature"
   ]
  },
  {
   "cell_type": "code",
   "execution_count": 10,
   "metadata": {},
   "outputs": [
    {
     "name": "stdout",
     "output_type": "stream",
     "text": [
      "[NaN, lion, li-i, #, lip, ..., 8, #TAB#, l\u0006&#TAB#, liÿÿ, lÿÿÿ]\n",
      "Length: 79\n",
      "Categories (78, object): [lion, li-i, #, lip, ..., #TAB#, l\u0006&#TAB#, liÿÿ, lÿÿÿ]\n",
      "78\n",
      "[0 1]\n",
      "2\n",
      "Wall time: 33.2 s\n"
     ]
    }
   ],
   "source": [
    "%%time\n",
    "print((trainData['Census_InternalBatteryType']).unique())\n",
    "print((trainData['Census_InternalBatteryType']).nunique())\n",
    "\n",
    "#we currently have 78 categories as of now however, mostly all categories represent specificity of \n",
    "#the battery but batteries can be easily categorized in just 2 categories i.e. Li battery or ~Li battery\n",
    "\n",
    "trainData['li'] = trainData['Census_InternalBatteryType'].str.lower()\n",
    "newColumn=[]\n",
    "looplist = trainData['li'].iteritems()\n",
    "for c in looplist:\n",
    "    if ('li' in c):\n",
    "        newColumn.append(1)\n",
    "    else:\n",
    "        newColumn.append(0)\n",
    "newDf = pd.DataFrame({'li' : newColumn})\n",
    "trainData.update(newDf)\n",
    "#^^ new levels that are 0 and 1 have been added to data frame.\n",
    "\n",
    "trainData['li'] = trainData['li'].astype('uint8')\n",
    "#optimizing data type\n",
    "\n",
    "print((trainData['li']).unique())\n",
    "print((trainData['li']).nunique())\n",
    "        \n",
    "\n"
   ]
  },
  {
   "cell_type": "code",
   "execution_count": 12,
   "metadata": {},
   "outputs": [
    {
     "name": "stdout",
     "output_type": "stream",
     "text": [
      "Wall time: 122 ms\n"
     ]
    }
   ],
   "source": [
    "%%time\n",
    "del newColumn\n",
    "del c\n",
    "del looplist\n",
    "#^^free up useless variables. [Save as much RAM as possible, you'll need it]"
   ]
  },
  {
   "cell_type": "markdown",
   "metadata": {},
   "source": [
    "Checking all columns - Data Cleaning"
   ]
  },
  {
   "cell_type": "code",
   "execution_count": 13,
   "metadata": {},
   "outputs": [
    {
     "name": "stdout",
     "output_type": "stream",
     "text": [
      "ProductName\n",
      "[win8defender, mse, mseprerelease, windowsintune, fep, scep]\n",
      "Categories (6, object): [win8defender, mse, mseprerelease, windowsintune, fep, scep]\n",
      "6\n",
      "EngineVersion\n",
      "[1.1.15100.1, 1.1.14600.4, 1.1.15200.1, 1.1.15300.6, 1.1.13504.0, 1.1.14800.3, 1.1.15000.2, 1.1.14104.0, 1.1.13804.0, 1.1.14306.0]\n",
      "Categories (70, object): [1.1.15100.1, 1.1.14600.4, 1.1.15200.1, 1.1.15300.6, ..., 1.1.11202.0, 1.1.11104.0, 1.1.12802.0, 1.1.10701.0]\n",
      "70\n",
      "AppVersion\n",
      "[4.18.1807.18075, 4.13.17134.1, 4.9.218.0, 4.18.1806.18062, 4.18.1809.2, 4.10.209.0, 4.8.10240.17914, 4.13.17134.228, 4.12.16299.15, 4.14.17639.18041]\n",
      "Categories (110, object): [4.18.1807.18075, 4.13.17134.1, 4.9.218.0, 4.18.1806.18062, ..., 4.13.17618.1000, 4.12.16299.0, 4.8.10240.17943, 4.13.17604.1000]\n",
      "110\n",
      "AvSigVersion\n",
      "[1.273.1735.0, 1.263.48.0, 1.273.1341.0, 1.273.1527.0, 1.273.1379.0, 1.273.1094.0, 1.273.845.0, 1.273.1393.0, 1.275.988.0, 1.273.973.0]\n",
      "Categories (8531, object): [1.273.1735.0, 1.263.48.0, 1.273.1341.0, 1.273.1527.0, ..., 1.217.500.0, 1.213.1918.0, 1.203.1966.0, 1.223.1075.0]\n",
      "8531\n",
      "IsBeta\n",
      "[0 1]\n",
      "2\n",
      "RtpStateBitfield\n",
      "[ 7.  0. nan  3.  5.  8.  1. 35.]\n",
      "7\n",
      "IsSxsPassiveMode\n",
      "[0 1]\n",
      "2\n",
      "DefaultBrowsersIdentifier\n",
      "[  nan 1950.  146.  239. 1910. 1161.  788. 2064.  614. 1632.]\n",
      "2017\n",
      "AVProductStatesIdentifier\n",
      "[5.3447e+04 4.3927e+04 4.6413e+04 4.7238e+04 3.6429e+04 7.9450e+03\n",
      " 2.9199e+04 3.9000e+01 3.6505e+04 4.6669e+04]\n",
      "28970\n",
      "AVProductsInstalled\n",
      "[ 1.  2.  3.  5. nan  4.  6.  7.  0.]\n",
      "8\n",
      "AVProductsEnabled\n",
      "[ 1.  2.  0.  4. nan  3.  5.]\n",
      "6\n",
      "HasTpm\n",
      "[1 0]\n",
      "2\n",
      "CountryIdentifier\n",
      "[ 29  93  86  88  18  97  78 164 107  80]\n",
      "222\n",
      "CityIdentifier\n",
      "[128035.   1482. 153579.  20710.  37376.  13598.  81215. 150323. 155006.\n",
      "  98572.]\n",
      "107366\n",
      "OrganizationIdentifier\n",
      "[18. nan 27. 46. 11. 14. 37. 10. 50. 49.]\n",
      "49\n",
      "GeoNameIdentifier\n",
      "[ 35. 119.  64. 117. 277. 126.  89. 205. 138. 101.]\n",
      "292\n",
      "LocaleEnglishNameIdentifier\n",
      "[ -85   64   49  115   75  124   88  -84 -122  107]\n",
      "252\n",
      "Platform\n",
      "[windows10, windows7, windows8, windows2016]\n",
      "Categories (4, object): [windows10, windows7, windows8, windows2016]\n",
      "4\n",
      "Processor\n",
      "[x64, arm64, x86]\n",
      "Categories (3, object): [x64, arm64, x86]\n",
      "3\n",
      "OsVer\n",
      "[10.0.0.0, 6.1.1.0, 6.3.0.0, 10.0.1.44, 6.1.0.0, 6.3.1.0, 6.1.3.0, 10.0.3.0, 10.0.1.0, 10.0.32.72]\n",
      "Categories (58, object): [10.0.0.0, 6.1.1.0, 6.3.0.0, 10.0.1.44, ..., 10.0.0.2, 6.3.0.112, 10.0.0.80, 6.3.7.0]\n",
      "58\n",
      "OsBuild\n",
      "[17134 14393 16299  7601  9600 10240 15063 10586 17744 17692]\n",
      "76\n",
      "OsSuite\n",
      "[256 768 272  16 400 784 305 274  49 144]\n",
      "14\n",
      "OsPlatformSubRelease\n",
      "[rs4, rs1, rs3, windows7, windows8.1, th1, rs2, th2, prers5]\n",
      "Categories (9, object): [rs4, rs1, rs3, windows7, ..., th1, rs2, th2, prers5]\n",
      "9\n",
      "OsBuildLab\n",
      "[17134.1.amd64fre.rs4_release.180410-1804, 14393.0.amd64fre.rs1_release.160715-1616, 16299.431.amd64fre.rs3_release_svc_escrow.1805..., 17134.1.arm64fre.rs4_release.180410-1804, 7601.18409.amd64fre.win7sp1_gdr.140303-2144, 16299.15.amd64fre.rs3_release.170928-1534, 9600.19067.x86fre.winblue_ltsb_escrow.180619-2033, 10240.17914.amd64fre.th1.180627-1911, 17134.1.x86fre.rs4_release.180410-1804, 16299.15.x86fre.rs3_release.170928-1534]\n",
      "Categories (663, object): [17134.1.amd64fre.rs4_release.180410-1804, 14393.0.amd64fre.rs1_release.160715-1616, 16299.431.amd64fre.rs3_release_svc_escrow.1805..., 17134.1.arm64fre.rs4_release.180410-1804, ..., 16299.431.amd64fre.rs3_release_svc_escrow.1805..., 17744.1000.amd64fre.rs5_release.180817-1423, 14466.1944.amd64fre.rs1_release.171244-2100, 17750.1000.amd64fre.rs5_release.180827-1459]\n",
      "663\n",
      "SkuEdition\n",
      "[Pro, Home, Invalid, Enterprise LTSB, Enterprise, Education, Cloud, Server]\n",
      "Categories (8, object): [Pro, Home, Invalid, Enterprise LTSB, Enterprise, Education, Cloud, Server]\n",
      "8\n",
      "IsProtected\n",
      "[ 1.  0. nan]\n",
      "2\n",
      "AutoSampleOptIn\n",
      "[0 1]\n",
      "2\n",
      "PuaMode\n",
      "[NaN, on, audit]\n",
      "Categories (2, object): [on, audit]\n",
      "2\n",
      "SMode\n",
      "[ 0. nan  1.]\n",
      "2\n",
      "IeVerIdentifier\n",
      "[137.  94.  nan 290. 117. 111. 333.  65. 108.  82.]\n",
      "303\n",
      "SmartScreen\n",
      "[NaN, requireadmin, existsnotset, off, warn, prompt, block, on, &#x01;, &#x02;]\n",
      "Categories (10, object): [requireadmin, existsnotset, off, warn, ..., on, &#x01;, &#x02;, &#x03;]\n",
      "10\n",
      "Firewall\n",
      "[ 1.  0. nan]\n",
      "2\n",
      "UacLuaenable\n",
      "[1.0000000e+00 0.0000000e+00           nan 4.8000000e+01 3.0000000e+00\n",
      " 2.0000000e+00 6.3570620e+06 4.9000000e+01 1.6777216e+07 5.0000000e+00]\n",
      "11\n",
      "Census_MDC2FormFactor\n",
      "[Desktop, Notebook, Detachable, PCOther, AllInOne, Convertible, SmallTablet, LargeTablet, SmallServer, LargeServer]\n",
      "Categories (13, object): [Desktop, Notebook, Detachable, PCOther, ..., LargeServer, MediumServer, ServerOther, IoTOther]\n",
      "13\n",
      "Census_DeviceFamily\n",
      "[Windows.Desktop, Windows.Server, Windows]\n",
      "Categories (3, object): [Windows.Desktop, Windows.Server, Windows]\n",
      "3\n",
      "Census_OEMNameIdentifier\n",
      "[2668. 4909. 1443. 3799. 5682. 2206.  585. 4143. 2102. 4589.]\n",
      "3832\n",
      "Census_OEMModelIdentifier\n",
      "[  9124.  91656. 317701. 275890. 331929. 340727. 207404. 338896. 240688.\n",
      " 189457.]\n",
      "175365\n",
      "Census_ProcessorCoreCount\n",
      "[ 4.  2.  8. 12.  1.  6. nan 16.  3. 20.]\n",
      "45\n",
      "Census_ProcessorManufacturerIdentifier\n",
      "[ 5.  1. 10. nan  3.  4.  7.  9.]\n",
      "7\n",
      "Census_ProcessorModelIdentifier\n",
      "[2341. 2405. 1972. 2273. 2500. 4324.  657. 3381. 2836. 2373.]\n",
      "3428\n",
      "Census_ProcessorClass\n",
      "[NaN, mid, low, high]\n",
      "Categories (3, object): [mid, low, high]\n",
      "3\n",
      "Census_PrimaryDiskTotalCapacity\n",
      "[476940. 114473. 238475. 305245. 953869. 121676. 122104. 477102. 228936.\n",
      " 244198.]\n",
      "5735\n",
      "Census_PrimaryDiskTypeName\n",
      "[HDD, SSD, UNKNOWN, Unspecified, NaN]\n",
      "Categories (4, object): [HDD, SSD, UNKNOWN, Unspecified]\n",
      "4\n",
      "Census_SystemVolumeTotalCapacity\n",
      "[299451. 102385. 113907. 227116. 101900. 113671. 458702. 290807. 303892.\n",
      " 203252.]\n",
      "536848\n",
      "Census_HasOpticalDiskDrive\n",
      "[0 1]\n",
      "2\n",
      "Census_TotalPhysicalRAM\n",
      "[ 4096.  6144.  8192.  2048. 12288. 16384.  3072.  1023.    nan  2047.]\n",
      "3446\n",
      "Census_ChassisTypeName\n",
      "[Desktop, Notebook, MiniTower, Portable, Detachable, Laptop, AllinOne, LowProfileDesktop, SpaceSaving, Other]\n",
      "Categories (52, object): [Desktop, Notebook, MiniTower, Portable, ..., BladeEnclosure, 81, EmbeddedPC, 39]\n",
      "52\n",
      "Census_InternalPrimaryDiagonalDisplaySizeInInches\n",
      "[18.89999962 13.89999962 21.5        18.5        14.         17.20000076\n",
      " 15.5        15.60000038 11.89999962 17.10000038]\n",
      "785\n",
      "Census_InternalPrimaryDisplayResolutionHorizontal\n",
      "[1440. 1366. 1920. 1600. 2160. 2560. 1680.   nan 1280. 1200.]\n",
      "2180\n",
      "Census_InternalPrimaryDisplayResolutionVertical\n",
      "[ 900.  768. 1080. 1440. 1600. 1200. 1050.   nan  720. 1920.]\n",
      "1560\n",
      "Census_PowerPlatformRoleName\n",
      "[Desktop, Mobile, Slate, Workstation, SOHOServer, UNKNOWN, AppliancePC, EnterpriseServer, PerformanceServer, NaN]\n",
      "Categories (10, object): [Desktop, Mobile, Slate, Workstation, ..., AppliancePC, EnterpriseServer, PerformanceServer, Unspecified]\n",
      "10\n",
      "Census_InternalBatteryType\n",
      "[NaN, lion, li-i, #, lip, liio, vbox, li p, real, unkn]\n",
      "Categories (78, object): [lion, li-i, #, lip, ..., #TAB#, l\u0006&#TAB#, liÿÿ, lÿÿÿ]\n",
      "78\n",
      "Census_InternalBatteryNumberOfCharges\n",
      "[4.2949673e+09 1.0000000e+00 0.0000000e+00 1.8000000e+01 7.0000000e+00\n",
      " 3.3000000e+01           nan 2.7600000e+02 2.6000000e+02 6.2777000e+04]\n",
      "41087\n",
      "Census_OSVersion\n",
      "[10.0.17134.165, 10.0.17134.1, 10.0.17134.228, 10.0.17134.191, 10.0.14393.0, 10.0.17134.254, 10.0.16299.431, 10.0.17134.167, 10.0.10586.164, 10.0.17134.285]\n",
      "Categories (469, object): [10.0.17134.165, 10.0.17134.1, 10.0.17134.228, 10.0.17134.191, ..., 6.2.9200.21703, 10.0.14466.228, 10.0.16299.183, 10.0.17750.1000]\n",
      "469\n",
      "Census_OSArchitecture\n",
      "[amd64, arm64, x86]\n",
      "Categories (3, object): [amd64, arm64, x86]\n",
      "3\n",
      "Census_OSBranch\n",
      "[rs4_release, rs1_release, rs3_release_svc_escrow, th2_release, rs3_release, th1_st1, rs2_release, th1, rs3_release_svc_escrow_im, th2_release_sec]\n",
      "Categories (32, object): [rs4_release, rs1_release, rs3_release_svc_escrow, th2_release, ..., rs1_release_svc, rs_xbox, rs5_release_sign, win8_ldr]\n",
      "32\n",
      "Census_OSBuildNumber\n",
      "[17134 14393 16299 10586 10240 15063 17744 17692 17738 17751]\n",
      "165\n",
      "Census_OSBuildRevision\n",
      "[165   1 228 191   0 254 431 167 164 285]\n",
      "285\n",
      "Census_OSEdition\n",
      "[Professional, Core, CoreSingleLanguage, EnterpriseS, CoreCountrySpecific, EnterpriseSN, ProfessionalEducation, Enterprise, Education, Cloud]\n",
      "Categories (33, object): [Professional, Core, CoreSingleLanguage, EnterpriseS, ..., Pro, Enterprise 2015 LTSB, Home, professional]\n",
      "33\n",
      "Census_OSSkuName\n",
      "[PROFESSIONAL, CORE, CORE_SINGLELANGUAGE, ENTERPRISE_S, CORE_COUNTRYSPECIFIC, ENTERPRISE_S_N, ENTERPRISE, EDUCATION, CLOUD, PROFESSIONAL_N]\n"
     ]
    },
    {
     "name": "stdout",
     "output_type": "stream",
     "text": [
      "Categories (30, object): [PROFESSIONAL, CORE, CORE_SINGLELANGUAGE, ENTERPRISE_S, ..., STARTER, PRO_FOR_EDUCATION, PRO_SINGLE_LANGUAGE, UNDEFINED]\n",
      "30\n",
      "Census_OSInstallTypeName\n",
      "[UUPUpgrade, IBSClean, Update, Upgrade, Other, Clean, Reset, Refresh, CleanPCRefresh]\n",
      "Categories (9, object): [UUPUpgrade, IBSClean, Update, Upgrade, ..., Clean, Reset, Refresh, CleanPCRefresh]\n",
      "9\n",
      "Census_OSInstallLanguageIdentifier\n",
      "[26.  8.  7. 17. 18. 14. 27.  6. 29. 37.]\n",
      "39\n",
      "Census_OSUILocaleIdentifier\n",
      "[119  31  30  64  72  49 120  28 125 158]\n",
      "147\n",
      "Census_OSWUAutoUpdateOptionsName\n",
      "[UNKNOWN, FullAuto, Notify, AutoInstallAndRebootAtMaintenanceTime, Off, DownloadNotify]\n",
      "Categories (6, object): [UNKNOWN, FullAuto, Notify, AutoInstallAndRebootAtMaintenanceTime, Off, DownloadNotify]\n",
      "6\n",
      "Census_IsPortableOperatingSystem\n",
      "[0 1]\n",
      "2\n",
      "Census_GenuineStateName\n",
      "[IS_GENUINE, OFFLINE, INVALID_LICENSE, UNKNOWN, TAMPERED]\n",
      "Categories (5, object): [IS_GENUINE, OFFLINE, INVALID_LICENSE, UNKNOWN, TAMPERED]\n",
      "5\n",
      "Census_ActivationChannel\n",
      "[Retail, OEM:NONSLP, OEM:DM, Volume:GVLK, Volume:MAK, Retail:TB:Eval]\n",
      "Categories (6, object): [Retail, OEM:NONSLP, OEM:DM, Volume:GVLK, Volume:MAK, Retail:TB:Eval]\n",
      "6\n",
      "Census_IsFlightingInternal\n",
      "[nan  0.  1.]\n",
      "2\n",
      "Census_IsFlightsDisabled\n",
      "[ 0. nan  1.]\n",
      "2\n",
      "Census_FlightRing\n",
      "[Retail, NOT_SET, Unknown, Disabled, RP, WIS, WIF, OSG, Canary, Invalid]\n",
      "Categories (10, object): [Retail, NOT_SET, Unknown, Disabled, ..., WIF, OSG, Canary, Invalid]\n",
      "10\n",
      "Census_ThresholdOptIn\n",
      "[nan  0.  1.]\n",
      "2\n",
      "Census_FirmwareManufacturerIdentifier\n",
      "[628. 142. 355.  93. 556. 512. 500. 845. 486. 803.]\n",
      "712\n",
      "Census_FirmwareVersionIdentifier\n",
      "[36144. 57858. 52682. 20050. 19844. 51039. 63175. 63122. 15510. 63555.]\n",
      "50494\n",
      "Census_IsSecureBootEnabled\n",
      "[0 1]\n",
      "2\n",
      "Census_IsWIMBootEnabled\n",
      "[nan  0.  1.]\n",
      "2\n",
      "Census_IsVirtualDevice\n",
      "[ 0. nan  1.]\n",
      "2\n",
      "Census_IsTouchEnabled\n",
      "[0 1]\n",
      "2\n",
      "Census_IsPenCapable\n",
      "[0 1]\n",
      "2\n",
      "Census_IsAlwaysOnAlwaysConnectedCapable\n",
      "[ 0.  1. nan]\n",
      "2\n",
      "Wdft_IsGamer\n",
      "[ 0.  1. nan]\n",
      "2\n",
      "Wdft_RegionIdentifier\n",
      "[10.  8.  3.  1. 15.  7. 11.  2. 12.  4.]\n",
      "15\n",
      "HasDetections\n",
      "[0 1]\n",
      "2\n",
      "li\n",
      "[0 1]\n",
      "2\n",
      "Wall time: 24.9 s\n"
     ]
    }
   ],
   "source": [
    "%%time\n",
    "looplist = trainData.columns\n",
    "# print (looplist)\n",
    "\n",
    "for c in looplist:\n",
    "    print (c)\n",
    "    print (trainData[c].unique()[:10])\n",
    "    print (trainData[c].nunique())\n",
    "\n",
    "#^^to verify no other column requires cleaning (apart from removing NaNs)    \n",
    "del looplist\n",
    "del c\n"
   ]
  },
  {
   "cell_type": "markdown",
   "metadata": {},
   "source": [
    "Data Imputation - Didn't follow blog. We can use that if accuracy isn't >= 50% for any model."
   ]
  },
  {
   "cell_type": "code",
   "execution_count": 14,
   "metadata": {},
   "outputs": [
    {
     "ename": "NameError",
     "evalue": "name 'testData' is not defined",
     "output_type": "error",
     "traceback": [
      "\u001b[1;31m---------------------------------------------------------------------------\u001b[0m",
      "\u001b[1;31mNameError\u001b[0m                                 Traceback (most recent call last)",
      "\u001b[1;32m<timed exec>\u001b[0m in \u001b[0;36m<module>\u001b[1;34m\u001b[0m\n",
      "\u001b[1;31mNameError\u001b[0m: name 'testData' is not defined"
     ]
    }
   ],
   "source": [
    "%%time\n",
    "colnames=trainData.columns\n",
    "train_nona  = trainData.dropna(axis=0 , inplace= False)\n",
    "print(len(train_nona))\n",
    "print(len(test_nona))\n",
    "\n",
    "# ^^ The plan was to merge rows from train and test data with no NaN values and then train \n",
    "# regression models on this merged set to predict feature values on the missing columns.\n"
   ]
  },
  {
   "cell_type": "code",
   "execution_count": 15,
   "metadata": {},
   "outputs": [
    {
     "name": "stdout",
     "output_type": "stream",
     "text": [
      "Wall time: 11.2 s\n"
     ]
    }
   ],
   "source": [
    "%%time\n",
    "imputer = SimpleImputer(strategy='median')\n",
    "\n",
    "trainData['Census_InternalBatteryNumberOfCharges'] = imputer.fit_transform(trainData['Census_InternalBatteryNumberOfCharges'].values.reshape(-1,1))\n",
    "\n",
    "trainData['Census_InternalPrimaryDiagonalDisplaySizeInInches'] = imputer.fit_transform(trainData['Census_InternalPrimaryDiagonalDisplaySizeInInches'].values.reshape(-1,1))\n",
    "\n",
    "trainData['Census_ProcessorCoreCount'] = imputer.fit_transform(trainData['Census_ProcessorCoreCount'].values.reshape(-1,1))\n",
    "\n",
    "trainData['Census_TotalPhysicalRAM'] = imputer.fit_transform(trainData['Census_TotalPhysicalRAM'].values.reshape(-1,1))\n",
    "\n",
    "trainData['Census_PrimaryDiskTotalCapacity'] = imputer.fit_transform(trainData['Census_PrimaryDiskTotalCapacity'].values.reshape(-1,1))\n",
    "\n",
    "trainData['Census_SystemVolumeTotalCapacity'] = imputer.fit_transform(trainData['Census_SystemVolumeTotalCapacity'].values.reshape(-1,1))\n",
    "\n",
    "trainData['Census_InternalPrimaryDisplayResolutionHorizontal'] = imputer.fit_transform(trainData['Census_InternalPrimaryDisplayResolutionHorizontal'].values.reshape(-1,1))\n",
    "\n",
    "trainData['Census_InternalPrimaryDisplayResolutionVertical'] = imputer.fit_transform(trainData['Census_InternalPrimaryDisplayResolutionVertical'].values.reshape(-1,1))\n",
    "\n",
    "trainData['AVProductsEnabled'] = imputer.fit_transform(trainData['AVProductsEnabled'].values.reshape(-1,1))\n",
    "\n",
    "trainData['AVProductsInstalled'] = imputer.fit_transform(trainData['AVProductsInstalled'].values.reshape(-1,1))\n"
   ]
  },
  {
   "cell_type": "code",
   "execution_count": 16,
   "metadata": {},
   "outputs": [
    {
     "name": "stdout",
     "output_type": "stream",
     "text": [
      "Wall time: 349 ms\n"
     ]
    }
   ],
   "source": [
    "%%time\n",
    "# total disk capacity remaining\n",
    "trainData['disk_space_remain'] = trainData['Census_PrimaryDiskTotalCapacity'] - trainData['Census_SystemVolumeTotalCapacity']\n",
    "\n",
    "trainData['disk_space_remain'] = trainData['disk_space_remain'].astype('float32')\n",
    "\n",
    "\n",
    "# Ram-to-CPU ratio\n",
    "trainData['ram_to_cpu_ratio'] = trainData['Census_TotalPhysicalRAM'] / \n",
    "                                                                    trainData['Census_ProcessorCoreCount']\n",
    "\n",
    "\n",
    "# Pixel Per Inch PPI sqrt(horizonal**2 + vertical**2) / diagonal\n",
    "trainData['ppi'] = np.sqrt(trainData['Census_InternalPrimaryDisplayResolutionHorizontal']**2 + trainData['Census_InternalPrimaryDisplayResolutionVertical']**2) / trainData['Census_InternalPrimaryDiagonalDisplaySizeInInches']\n",
    "\n",
    "\n",
    "# PPI squared\n",
    "trainData['ppi2'] = trainData.ppi ** 2\n",
    "\n",
    "\n",
    "# Screen aspect ratio = Horizonal / Vertical\n",
    "trainData['aspect_ratio'] = trainData['Census_InternalPrimaryDisplayResolutionHorizontal'] / trainData['Census_InternalPrimaryDisplayResolutionVertical']\n",
    "\n",
    "\n",
    "# Pixel count = Horizonal * Vertical\n",
    "trainData['pixel_count'] = trainData['Census_InternalPrimaryDisplayResolutionHorizontal'] * trainData['Census_InternalPrimaryDisplayResolutionVertical']\n",
    "\n",
    "\n"
   ]
  },
  {
   "cell_type": "code",
   "execution_count": 17,
   "metadata": {},
   "outputs": [
    {
     "name": "stdout",
     "output_type": "stream",
     "text": [
      "Wall time: 0 ns\n"
     ]
    }
   ],
   "source": [
    "%%time\n",
    "numerical_categorical = [\n",
    "'RtpStateBitfield','DefaultBrowsersIdentifier', 'AVProductStatesIdentifier', \n",
    "'CityIdentifier' , 'OrganizationIdentifier','GeoNameIdentifier', \n",
    "'IeVerIdentifier', 'UacLuaenable', 'Census_OEMNameIdentifier', \n",
    "'Census_OEMModelIdentifier', 'Census_ProcessorManufacturerIdentifier', \n",
    "'Census_ProcessorModelIdentifier', 'Census_OSInstallLanguageIdentifier', \n",
    "'Census_FirmwareManufacturerIdentifier', 'Census_FirmwareVersionIdentifier', \n",
    "'Wdft_RegionIdentifier', 'LocaleEnglishNameIdentifier', 'OsBuild', 'OsSuite', \n",
    "'Census_OSBuildNumber', 'CountryIdentifier', 'Census_OSUILocaleIdentifier', 'Census_OSBuildRevision'\n",
    "]\n",
    "categorical = [\n",
    "'ProductName', 'Platform', 'Processor', 'OsVer', 'OsPlatformSubRelease', \n",
    "'OsBuildLab', 'SkuEdition', 'PuaMode', 'SmartScreen', 'Census_MDC2FormFactor', \n",
    "'Census_DeviceFamily', 'Census_ProcessorClass', 'Census_PrimaryDiskTypeName', \n",
    "'Census_ChassisTypeName', 'Census_PowerPlatformRoleName', 'Census_InternalBatteryType', \n",
    "'Census_OSArchitecture', 'Census_OSBranch', 'Census_OSEdition', 'Census_OSSkuName', \n",
    "'Census_OSInstallTypeName', 'Census_OSWUAutoUpdateOptionsName', 'Census_GenuineStateName', \n",
    "'Census_ActivationChannel', 'Census_FlightRing', \n",
    "'AvSigVersion', 'AppVersion', 'EngineVersion', 'Census_OSVersion' \n",
    "]\n",
    "\n"
   ]
  },
  {
   "cell_type": "code",
   "execution_count": 18,
   "metadata": {},
   "outputs": [
    {
     "name": "stderr",
     "output_type": "stream",
     "text": [
      "100%|██████████| 23/23 [01:10<00:00,  3.09s/it]\n",
      "100%|██████████| 29/29 [00:08<00:00,  3.46it/s]\n"
     ]
    },
    {
     "name": "stdout",
     "output_type": "stream",
     "text": [
      "Wall time: 1min 19s\n"
     ]
    }
   ],
   "source": [
    "%%time\n",
    "def frequency_encoding(variable):\n",
    "    t = trainData[variable].value_counts().reset_index()\n",
    "    t = t.reset_index()\n",
    "    t.loc[t[variable] == 1, 'level_0'] = np.nan\n",
    "    t.set_index('index', inplace=True)\n",
    "    max_label = t['level_0'].max() + 1\n",
    "    t.fillna(max_label, inplace=True)\n",
    "    t=t.to_dict()['level_0']\n",
    "    return t\n",
    "    \n",
    "for col in tqdm(numerical_categorical):\n",
    "    freq_enc_dict = frequency_encoding(col)\n",
    "    trainData[col] = trainData[col].map(lambda x: freq_enc_dict.get(x, np.nan)).astype('float32')\n",
    "\n",
    "    \n",
    "for col in tqdm(categorical):\n",
    "    freq_enc_dict = frequency_encoding(col)\n",
    "    trainData[col] = trainData[col].map(lambda x: freq_enc_dict.get(x, np.nan)).astype('float32')\n",
    "\n",
    "\n"
   ]
  },
  {
   "cell_type": "code",
   "execution_count": 19,
   "metadata": {},
   "outputs": [
    {
     "name": "stdout",
     "output_type": "stream",
     "text": [
      "RtpStateBitfield 0.003622491910817966\n",
      "DefaultBrowsersIdentifier 0.9514163732644001 removeeeeeeeeeeeeee\n",
      "AVProductStatesIdentifier 0.004059975230575455\n",
      "CityIdentifier 0.0364747654621995\n",
      "OrganizationIdentifier 0.3084148677972037\n",
      "GeoNameIdentifier 2.3874954421815298e-05\n",
      "OsBuildLab 2.3538687458127756e-06\n",
      "IsProtected 0.00404013547971789\n",
      "PuaMode 0.9997411865269485 removeeeeeeeeeeeeee\n",
      "SMode 0.0602768620418825\n",
      "IeVerIdentifier 0.006601368853137982\n",
      "SmartScreen 0.35610839587992266\n",
      "Firewall 0.010239329044285575\n",
      "UacLuaenable 0.001214820450815184\n",
      "Census_OEMNameIdentifier 0.01070203238631963\n",
      "Census_OEMModelIdentifier 0.011459193499556071\n",
      "Census_ProcessorManufacturerIdentifier 0.004630732356941105\n",
      "Census_ProcessorModelIdentifier 0.004634095026577981\n",
      "Census_ProcessorClass 0.9958940682843872 removeeeeeeeeeeeeee\n",
      "Census_PrimaryDiskTypeName 0.001439670960534252\n",
      "Census_ChassisTypeName 6.983143945911235e-05\n",
      "Census_PowerPlatformRoleName 6.164894334271555e-06\n",
      "Census_InternalBatteryType 0.7104680914596823 removeeeeeeeeeeeeee\n",
      "Census_OSInstallLanguageIdentifier 0.006734754748734039\n",
      "Census_IsFlightingInternal 0.8304402978742436 removeeeeeeeeeeeeee\n",
      "Census_IsFlightsDisabled 0.017992860604004964\n",
      "Census_ThresholdOptIn 0.635244723326828 removeeeeeeeeeeeeee\n",
      "Census_FirmwareManufacturerIdentifier 0.020541091654829136\n",
      "Census_FirmwareVersionIdentifier 0.017949145898725583\n",
      "Census_IsWIMBootEnabled 0.6343903810610859 removeeeeeeeeeeeeee\n",
      "Census_IsVirtualDevice 0.0017881556239024386\n",
      "Census_IsAlwaysOnAlwaysConnectedCapable 0.007996764663453374\n",
      "Wdft_IsGamer 0.034013515465982504\n",
      "Wdft_RegionIdentifier 0.034013515465982504\n"
     ]
    }
   ],
   "source": [
    "col_to_impute=[]\n",
    "col_to_remove=[]\n",
    "for col in trainData.columns:\n",
    "    t=sum(trainData[col].isnull())\n",
    "    if(t > 0 ):\n",
    "        k = t/n\n",
    "        if(k>0.4):\n",
    "            print (col,k,\"removeeeeeeeeeeeeee\")\n",
    "            col_to_remove.append(col)\n",
    "        else:\n",
    "            print (col,k)\n",
    "            col_to_impute.append(col)\n",
    "        "
   ]
  },
  {
   "cell_type": "code",
   "execution_count": 20,
   "metadata": {},
   "outputs": [
    {
     "name": "stdout",
     "output_type": "stream",
     "text": [
      "ProductName                                          0\n",
      "EngineVersion                                        0\n",
      "AppVersion                                           0\n",
      "AvSigVersion                                         0\n",
      "IsBeta                                               0\n",
      "RtpStateBitfield                                     0\n",
      "IsSxsPassiveMode                                     0\n",
      "AVProductStatesIdentifier                            0\n",
      "AVProductsInstalled                                  0\n",
      "AVProductsEnabled                                    0\n",
      "HasTpm                                               0\n",
      "CountryIdentifier                                    0\n",
      "CityIdentifier                                       0\n",
      "OrganizationIdentifier                               0\n",
      "GeoNameIdentifier                                    0\n",
      "LocaleEnglishNameIdentifier                          0\n",
      "Platform                                             0\n",
      "Processor                                            0\n",
      "OsVer                                                0\n",
      "OsBuild                                              0\n",
      "OsSuite                                              0\n",
      "OsPlatformSubRelease                                 0\n",
      "OsBuildLab                                           0\n",
      "SkuEdition                                           0\n",
      "IsProtected                                          0\n",
      "AutoSampleOptIn                                      0\n",
      "SMode                                                0\n",
      "IeVerIdentifier                                      0\n",
      "SmartScreen                                          0\n",
      "Firewall                                             0\n",
      "UacLuaenable                                         0\n",
      "Census_MDC2FormFactor                                0\n",
      "Census_DeviceFamily                                  0\n",
      "Census_OEMNameIdentifier                             0\n",
      "Census_OEMModelIdentifier                            0\n",
      "Census_ProcessorCoreCount                            0\n",
      "Census_ProcessorManufacturerIdentifier               0\n",
      "Census_ProcessorModelIdentifier                      0\n",
      "Census_PrimaryDiskTotalCapacity                      0\n",
      "Census_PrimaryDiskTypeName                           0\n",
      "Census_SystemVolumeTotalCapacity                     0\n",
      "Census_HasOpticalDiskDrive                           0\n",
      "Census_TotalPhysicalRAM                              0\n",
      "Census_ChassisTypeName                               0\n",
      "Census_InternalPrimaryDiagonalDisplaySizeInInches    0\n",
      "Census_InternalPrimaryDisplayResolutionHorizontal    0\n",
      "Census_InternalPrimaryDisplayResolutionVertical      0\n",
      "Census_PowerPlatformRoleName                         0\n",
      "Census_InternalBatteryNumberOfCharges                0\n",
      "Census_OSVersion                                     0\n",
      "Census_OSArchitecture                                0\n",
      "Census_OSBranch                                      0\n",
      "Census_OSBuildNumber                                 0\n",
      "Census_OSBuildRevision                               0\n",
      "Census_OSEdition                                     0\n",
      "Census_OSSkuName                                     0\n",
      "Census_OSInstallTypeName                             0\n",
      "Census_OSInstallLanguageIdentifier                   0\n",
      "Census_OSUILocaleIdentifier                          0\n",
      "Census_OSWUAutoUpdateOptionsName                     0\n",
      "Census_IsPortableOperatingSystem                     0\n",
      "Census_GenuineStateName                              0\n",
      "Census_ActivationChannel                             0\n",
      "Census_IsFlightsDisabled                             0\n",
      "Census_FlightRing                                    0\n",
      "Census_FirmwareManufacturerIdentifier                0\n",
      "Census_FirmwareVersionIdentifier                     0\n",
      "Census_IsSecureBootEnabled                           0\n",
      "Census_IsVirtualDevice                               0\n",
      "Census_IsTouchEnabled                                0\n",
      "Census_IsPenCapable                                  0\n",
      "Census_IsAlwaysOnAlwaysConnectedCapable              0\n",
      "Wdft_IsGamer                                         0\n",
      "Wdft_RegionIdentifier                                0\n",
      "HasDetections                                        0\n",
      "li                                                   0\n",
      "disk_space_remain                                    0\n",
      "ram_to_cpu_ratio                                     0\n",
      "ppi                                                  0\n",
      "ppi2                                                 0\n",
      "aspect_ratio                                         0\n",
      "pixel_count                                          0\n",
      "dtype: int64\n",
      "Wall time: 50.1 s\n"
     ]
    }
   ],
   "source": [
    "%%time\n",
    "\n",
    "\n",
    "for col in col_to_impute:\n",
    "    mode = scipy.stats.mode(trainData[col],nan_policy='omit')\n",
    "    trainData[col]=trainData[col].fillna(mode[0][0]).astype(type(trainData[col][0]))\n",
    "\n",
    "\n",
    "for col in col_to_remove:\n",
    "    trainData.drop([col],inplace=True,axis=1)\n",
    "    \n",
    "print(trainData.isnull().sum())\n",
    "\n",
    "\n",
    "\n",
    "\n"
   ]
  },
  {
   "cell_type": "code",
   "execution_count": 22,
   "metadata": {},
   "outputs": [],
   "source": [
    "trainData.to_feather(\"finalData.ft\")"
   ]
  },
  {
   "cell_type": "code",
   "execution_count": 23,
   "metadata": {},
   "outputs": [
    {
     "name": "stdout",
     "output_type": "stream",
     "text": [
      "0          0\n",
      "1          0\n",
      "2          0\n",
      "3          1\n",
      "4          1\n",
      "          ..\n",
      "8921478    1\n",
      "8921479    0\n",
      "8921480    1\n",
      "8921481    1\n",
      "8921482    0\n",
      "Name: HasDetections, Length: 8921483, dtype: int8\n"
     ]
    }
   ],
   "source": [
    "print(trainData['HasDetections'])"
   ]
  }
 ],
 "metadata": {
  "kernelspec": {
   "display_name": "Python 3",
   "language": "python",
   "name": "python3"
  },
  "language_info": {
   "codemirror_mode": {
    "name": "ipython",
    "version": 3
   },
   "file_extension": ".py",
   "mimetype": "text/x-python",
   "name": "python",
   "nbconvert_exporter": "python",
   "pygments_lexer": "ipython3",
   "version": "3.7.4"
  }
 },
 "nbformat": 4,
 "nbformat_minor": 2
}
