{
 "cells": [
  {
   "cell_type": "code",
   "execution_count": 1,
   "metadata": {},
   "outputs": [],
   "source": [
    "%matplotlib inline\n",
    "import warnings\n",
    "warnings.filterwarnings('ignore')\n",
    "\n",
    "import pandas as pd\n",
    "import numpy as np\n",
    "import matplotlib.pyplot as plt\n",
    "import seaborn as sns\n",
    "import pickle\n",
    "import feather\n",
    "import gc\n",
    "from datetime import datetime\n",
    "from tqdm import tqdm, tqdm_notebook\n",
    "from sklearn.model_selection import train_test_split, KFold, StratifiedKFold\n",
    "from sklearn.preprocessing import OneHotEncoder, LabelEncoder\n",
    "from sklearn.impute import SimpleImputer\n",
    "import lightgbm as lgb\n",
    "from sklearn.metrics import roc_auc_score\n",
    "from numba import jit\n",
    "\n",
    "pd.set_option('display.max_columns', 500)\n",
    "pd.set_option('display.max_rows', 500)"
   ]
  },
  {
   "cell_type": "code",
   "execution_count": 2,
   "metadata": {},
   "outputs": [
    {
     "name": "stdout",
     "output_type": "stream",
     "text": [
      "Wall time: 9.51 s\n"
     ]
    }
   ],
   "source": [
    "%%time\n",
    "data = pd.read_feather(\"finalData.ft\")"
   ]
  },
  {
   "cell_type": "code",
   "execution_count": 3,
   "metadata": {},
   "outputs": [
    {
     "name": "stdout",
     "output_type": "stream",
     "text": [
      "Wall time: 13.8 s\n"
     ]
    }
   ],
   "source": [
    "%%time\n",
    "\n",
    "features = data.columns.tolist()\n",
    "features.remove('HasDetections')\n",
    "\n",
    "labels = np.asarray(data['HasDetections'])\n",
    "data.drop(['HasDetections'],inplace=True,axis=1)\n",
    "\n",
    "\n",
    "data = np.asarray(data)"
   ]
  },
  {
   "cell_type": "code",
   "execution_count": 5,
   "metadata": {},
   "outputs": [
    {
     "name": "stderr",
     "output_type": "stream",
     "text": [
      "\r",
      "0it [00:00, ?it/s]"
     ]
    },
    {
     "ename": "KeyboardInterrupt",
     "evalue": "",
     "output_type": "error",
     "traceback": [
      "\u001b[1;31m---------------------------------------------------------------------------\u001b[0m",
      "\u001b[1;31mKeyboardInterrupt\u001b[0m                         Traceback (most recent call last)",
      "\u001b[1;32m<timed exec>\u001b[0m in \u001b[0;36m<module>\u001b[1;34m\u001b[0m\n",
      "\u001b[1;31mKeyboardInterrupt\u001b[0m: "
     ]
    }
   ],
   "source": [
    "%%time\n",
    "from sklearn.metrics import accuracy_score , confusion_matrix\n",
    "from sklearn.metrics import accuracy_score\n",
    "\n",
    "folds = KFold(n_splits=3, shuffle=True)\n",
    "scores=[]\n",
    "confusionMatrices=[]\n",
    "bestscore=0\n",
    "for (train_index, test_index) in tqdm(folds.split(data,labels)):\n",
    "    xtrain , ytrain = np.insert(data[train_index],obj=0,values=1,axis=1) , labels[train_index]\n",
    "    xtest , ytest = np.insert(data[test_index],obj=0,values=1,axis=1) , labels[test_index]\n",
    "    \n",
    "    classifier = LogisticRegression()\n",
    "    classifier.fit(xtrain , ytrain)\n",
    "    \n",
    "    pred = classifier.predict(xtest)\n",
    "    score = roc_auc_score(ytest, pred)\n",
    "    scores.append(score)\n",
    "    confusionMatrices.append(confusion_matrix(ytest,pred))\n",
    "    if(score>bestscore):\n",
    "        bestscore=score\n",
    "        joblib.dump(classifier, 'logRegression.pkl')  \n",
    "    \n",
    "print (scores)"
   ]
  }
 ],
 "metadata": {
  "kernelspec": {
   "display_name": "Python 3",
   "language": "python",
   "name": "python3"
  },
  "language_info": {
   "codemirror_mode": {
    "name": "ipython",
    "version": 3
   },
   "file_extension": ".py",
   "mimetype": "text/x-python",
   "name": "python",
   "nbconvert_exporter": "python",
   "pygments_lexer": "ipython3",
   "version": "3.7.4"
  }
 },
 "nbformat": 4,
 "nbformat_minor": 2
}
